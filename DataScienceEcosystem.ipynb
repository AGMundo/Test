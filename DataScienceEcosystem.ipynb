{
 "cells": [
  {
   "cell_type": "code",
   "execution_count": null,
   "id": "7ddb46c3-613c-444d-af40-3b4a094287eb",
   "metadata": {},
   "outputs": [],
   "source": [
    "# Data Science Tools and Ecosystem "
   ]
  },
  {
   "cell_type": "markdown",
   "id": "57977f1a-ddbd-47b4-ad0e-a50d3842f59a",
   "metadata": {},
   "source": [
    "In this notebook, Data Science Tools and Ecosystem are summarized. "
   ]
  },
  {
   "cell_type": "markdown",
   "id": "ca3e7a43-987f-4661-9399-cbba88786eba",
   "metadata": {},
   "source": [
    "**Objectives:**\n",
    "\n",
    "- List popular languages for Data Science\n",
    "- List commonly used libraries in Data Science\n",
    "- Create tables using markdown\n",
    "- Evaluate arithmetic expressions in Python\n",
    "- Share Jupyter notebooks through GitHub "
   ]
  },
  {
   "cell_type": "markdown",
   "id": "645c4cae-4b8a-480e-b84d-3786653dc652",
   "metadata": {},
   "source": [
    "Some of the popular languages that Data Scientists use are:\n",
    "\n",
    "1. Python  \n",
    "2. R  \n",
    "3. SQL  \n",
    "4. Julia "
   ]
  },
  {
   "cell_type": "markdown",
   "id": "f4f70dc8-9e3a-4234-8f17-365392e03882",
   "metadata": {},
   "source": [
    "Some of the commonly used libraries used by Data Scientists include:\n",
    "\n",
    "1. Pandas  \n",
    "2. NumPy  \n",
    "3. Matplotlib  \n",
    "4. Scikit-learn "
   ]
  },
  {
   "cell_type": "markdown",
   "id": "19e3a263-a15f-4d2f-8185-558606bbebd1",
   "metadata": {},
   "source": [
    "| Data Science Tools        |\n",
    "|---------------------------|\n",
    "| Jupyter Notebook          |\n",
    "| RStudio                   |\n",
    "| Apache Zeppelin           |  "
   ]
  },
  {
   "cell_type": "markdown",
   "id": "188d0c45-07cd-47da-b2e1-5a78fd5cc13b",
   "metadata": {},
   "source": [
    "### Below are a few examples of evaluating arithmetic expressions in Python.  "
   ]
  },
  {
   "cell_type": "code",
   "execution_count": 1,
   "id": "9e01c898-f306-4907-ae20-8388846372b5",
   "metadata": {},
   "outputs": [
    {
     "data": {
      "text/plain": [
       "17"
      ]
     },
     "execution_count": 1,
     "metadata": {},
     "output_type": "execute_result"
    }
   ],
   "source": [
    "# This is a simple arithmetic expression to multiply then add integers\n",
    "(3 * 4) + 5 "
   ]
  },
  {
   "cell_type": "code",
   "execution_count": 3,
   "id": "f28f41ce-fcc8-4fc8-903b-72283933d6a3",
   "metadata": {},
   "outputs": [
    {
     "data": {
      "text/plain": [
       "3.3333333333333335"
      ]
     },
     "execution_count": 3,
     "metadata": {},
     "output_type": "execute_result"
    }
   ],
   "source": [
    "# This will convert 200 minutes to hours by dividing by 60\n",
    "200 / 60 "
   ]
  },
  {
   "cell_type": "markdown",
   "id": "0606e46d-b266-4f59-8345-4e4e0adc2a78",
   "metadata": {},
   "source": [
    "## Author\n",
    "\n",
    "Alejandra Gonzalez Mundo "
   ]
  },
  {
   "cell_type": "code",
   "execution_count": null,
   "id": "7c498903-211d-476f-9d4a-7d1b687d9893",
   "metadata": {},
   "outputs": [],
   "source": []
  }
 ],
 "metadata": {
  "kernelspec": {
   "display_name": "Python [conda env:base] *",
   "language": "python",
   "name": "conda-base-py"
  },
  "language_info": {
   "codemirror_mode": {
    "name": "ipython",
    "version": 3
   },
   "file_extension": ".py",
   "mimetype": "text/x-python",
   "name": "python",
   "nbconvert_exporter": "python",
   "pygments_lexer": "ipython3",
   "version": "3.12.7"
  }
 },
 "nbformat": 4,
 "nbformat_minor": 5
}
